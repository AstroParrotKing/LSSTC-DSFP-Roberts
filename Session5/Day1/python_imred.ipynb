{
 "cells": [
  {
   "cell_type": "markdown",
   "metadata": {},
   "source": [
    "# Image Reduction in Python "
   ]
  },
  {
   "cell_type": "markdown",
   "metadata": {},
   "source": [
    "Erik Tollerud (STScI)"
   ]
  },
  {
   "cell_type": "markdown",
   "metadata": {},
   "source": [
    "In this notebook we will walk through several of the basic steps required to do data reduction using Python and Astropy.  This notebook is focused on \"practical\" (you decide if that is a code word for \"lazy\") application of the existing ecosystem of Python packages.  That is, it is *not* a thorough guide to the nitty-gritty of how all these stages are implemented.  For that, see other lectures in this session."
   ]
  },
  {
   "cell_type": "markdown",
   "metadata": {},
   "source": [
    "INSTALL CCDPROC (>=1.3), PHOTUTILS (>=0.4)"
   ]
  },
  {
   "cell_type": "code",
   "execution_count": null,
   "metadata": {
    "collapsed": true
   },
   "outputs": [],
   "source": [
    "import numpy as np\n",
    "\n",
    "from astropy import units as u\n",
    "\n",
    "\n",
    "%matplotlib inline\n",
    "from matplotlib import pyplot as plt"
   ]
  },
  {
   "cell_type": "markdown",
   "metadata": {},
   "source": [
    "## Getting the data"
   ]
  },
  {
   "cell_type": "markdown",
   "metadata": {},
   "source": [
    "#  DOWNLOAD HERE"
   ]
  },
  {
   "cell_type": "code",
   "execution_count": null,
   "metadata": {},
   "outputs": [],
   "source": [
    "ls -lh python_imred_data/"
   ]
  },
  {
   "cell_type": "markdown",
   "metadata": {},
   "source": [
    "### Exercise "
   ]
  },
  {
   "cell_type": "markdown",
   "metadata": {},
   "source": [
    "Look at the ``observing_log`` file - it's an excerpt from the log.  Now look at the file sizes above.  What patterns do you see?  Can you tell why? (Hint: the \".gz\" at the end is significant here.)\n",
    "\n",
    "You might find it useful to take a quick look at some of the images with a fits viewer like `ds9` (or the visualizations below) if you aren't sure."
   ]
  },
  {
   "cell_type": "code",
   "execution_count": null,
   "metadata": {
    "collapsed": true
   },
   "outputs": [],
   "source": []
  },
  {
   "cell_type": "markdown",
   "metadata": {},
   "source": [
    "### Loading the Data"
   ]
  },
  {
   "cell_type": "code",
   "execution_count": null,
   "metadata": {
    "collapsed": true
   },
   "outputs": [],
   "source": [
    "from astropy.io import fits\n",
    "from astropy import nddata"
   ]
  },
  {
   "cell_type": "code",
   "execution_count": null,
   "metadata": {
    "collapsed": true
   },
   "outputs": [],
   "source": [
    "data_g = fits.open('python_imred_data/ccd.037.0.fits.gz')\n",
    "data_i = fits.open('python_imred_data/ccd.043.0.fits.gz')"
   ]
  },
  {
   "cell_type": "markdown",
   "metadata": {},
   "source": [
    "### Quick look "
   ]
  },
  {
   "cell_type": "code",
   "execution_count": null,
   "metadata": {
    "collapsed": true
   },
   "outputs": [],
   "source": [
    "%matplotlib inline\n",
    "from matplotlib import pyplot as plt\n",
    "from astropy import visualization as aviz"
   ]
  },
  {
   "cell_type": "code",
   "execution_count": null,
   "metadata": {},
   "outputs": [],
   "source": [
    "image = data_g[0].data\n",
    "norm = aviz.ImageNormalize(image, interval=aviz.PercentileInterval(90), stretch=aviz.LogStretch())\n",
    "\n",
    "fig, ax = plt.subplots(1,1, figsize=(6,10))\n",
    "plt.colorbar(ax.imshow(image, norm=norm, origin='lower'))"
   ]
  },
  {
   "cell_type": "code",
   "execution_count": null,
   "metadata": {
    "collapsed": true
   },
   "outputs": [],
   "source": [
    "def show_image(image, percl=99, percu=None, figsize=(6, 10)):\n",
    "    if percu is None:\n",
    "        percu = percl\n",
    "        percl = 100-percl\n",
    "        \n",
    "    norm = aviz.ImageNormalize(image, interval=aviz.AsymmetricPercentileInterval(percl, percu), \n",
    "                                      stretch=aviz.LogStretch())\n",
    "\n",
    "    fig, ax = plt.subplots(1,1, figsize=figsize)\n",
    "    plt.colorbar(ax.imshow(image, norm=norm, origin='lower'))\n",
    "    \n",
    "    return fig, ax"
   ]
  },
  {
   "cell_type": "markdown",
   "metadata": {},
   "source": [
    "### Overscan and Bias "
   ]
  },
  {
   "cell_type": "code",
   "execution_count": null,
   "metadata": {
    "collapsed": true
   },
   "outputs": [],
   "source": [
    "from glob import glob\n",
    "import ccdproc"
   ]
  },
  {
   "cell_type": "markdown",
   "metadata": {},
   "source": [
    "example of how it all works"
   ]
  },
  {
   "cell_type": "code",
   "execution_count": null,
   "metadata": {},
   "outputs": [],
   "source": [
    "im1 = nddata.CCDData.read('python_imred_data/ccd.001.0.fits.gz', unit=u.count)\n",
    "subed = ccdproc.subtract_overscan(im1, fits_section='[2049:2080,:]', overscan_axis=1)\n",
    "trimmed = ccdproc.trim_image(subed, fits_section=subed.meta['DATASEC'])"
   ]
  },
  {
   "cell_type": "code",
   "execution_count": null,
   "metadata": {
    "scrolled": true
   },
   "outputs": [],
   "source": [
    "show_image(trimmed)"
   ]
  },
  {
   "cell_type": "markdown",
   "metadata": {},
   "source": [
    "Note that it's note actually 4096"
   ]
  },
  {
   "cell_type": "code",
   "execution_count": null,
   "metadata": {},
   "outputs": [],
   "source": [
    "arr = trimmed[:, 1024:].data.flatten()\n",
    "plt.hist(arr, bins=100, histtype='step', log=True, range=(-100, 100))\n",
    "np.mean(arr), np.std(arr)"
   ]
  },
  {
   "cell_type": "code",
   "execution_count": null,
   "metadata": {
    "collapsed": true
   },
   "outputs": [],
   "source": [
    "def overscan_correct(image):\n",
    "    subed = ccdproc.subtract_overscan(image, fits_section='[2049:2080,:]', overscan_axis=1)\n",
    "    trimmed = ccdproc.trim_image(subed, fits_section='[1:2048,1:4128]')\n",
    "    return trimmed"
   ]
  },
  {
   "cell_type": "markdown",
   "metadata": {},
   "source": [
    "#### Applied to data set "
   ]
  },
  {
   "cell_type": "code",
   "execution_count": null,
   "metadata": {},
   "outputs": [],
   "source": [
    "nd = nddata.CCDData.read('python_imred_data/ccd.037.0.fits.gz', unit=u.count)"
   ]
  },
  {
   "cell_type": "code",
   "execution_count": null,
   "metadata": {},
   "outputs": [],
   "source": [
    "biasfns = glob('python_imred_data/ccd.00?.0.fits.gz') + ['python_imred_data/ccd.010.0.fits.gz']\n",
    "biasfns"
   ]
  },
  {
   "cell_type": "code",
   "execution_count": null,
   "metadata": {},
   "outputs": [],
   "source": [
    "biases = [overscan_correct(nddata.CCDData.read(fn, unit=u.count)) for fn in biasfns]\n",
    "\n",
    "bias_combiner = ccdproc.Combiner(biases)\n",
    "master_bias = bias_combiner.median_combine()"
   ]
  },
  {
   "cell_type": "code",
   "execution_count": null,
   "metadata": {},
   "outputs": [],
   "source": [
    "show_image(master_bias)\n",
    "master_bias"
   ]
  },
  {
   "cell_type": "code",
   "execution_count": null,
   "metadata": {},
   "outputs": [],
   "source": [
    "arr = master_bias[:, 1024:].data.flatten()\n",
    "plt.hist(arr, bins=100, histtype='step', log=True, range=(-50, 50))\n",
    "np.mean(arr), np.std(arr)"
   ]
  },
  {
   "cell_type": "code",
   "execution_count": null,
   "metadata": {
    "collapsed": true
   },
   "outputs": [],
   "source": [
    "ccd_data_g = overscan_correct(nddata.CCDData.read(data_g.filename(), unit=u.count))"
   ]
  },
  {
   "cell_type": "code",
   "execution_count": null,
   "metadata": {},
   "outputs": [],
   "source": [
    "ccd_data_g_unbiased = ccdproc.subtract_bias(ccd_data_g, master_bias)\n",
    "show_image(ccd_data_g_unbiased, 10, 99.8)"
   ]
  },
  {
   "cell_type": "markdown",
   "metadata": {},
   "source": [
    "### flat"
   ]
  },
  {
   "cell_type": "code",
   "execution_count": null,
   "metadata": {},
   "outputs": [],
   "source": [
    "flat_g_fns = glob('python_imred_data/ccd.01[1-6].0.fits.gz')\n",
    "flat_g_fns"
   ]
  },
  {
   "cell_type": "code",
   "execution_count": null,
   "metadata": {
    "collapsed": true
   },
   "outputs": [],
   "source": [
    "flats_g = [overscan_correct(nddata.CCDData.read(fn, unit=u.count)) for fn in flat_g_fns]\n",
    "flats_g = [ccdproc.subtract_bias(flat, master_bias) for flat in flats_g]\n",
    "flat_g_combiner = ccdproc.Combiner(flats_g)\n",
    "combined_flat_g = flat_g_combiner.median_combine()"
   ]
  },
  {
   "cell_type": "code",
   "execution_count": null,
   "metadata": {},
   "outputs": [],
   "source": [
    "show_image(combined_flat_g, 90)"
   ]
  },
  {
   "cell_type": "code",
   "execution_count": null,
   "metadata": {},
   "outputs": [],
   "source": [
    "ccd_data_g_flattened = ccdproc.flat_correct(ccd_data_g_unbiased, combined_flat_g)\n",
    "show_image(ccd_data_g_flattened, 10, 99.5)"
   ]
  },
  {
   "cell_type": "markdown",
   "metadata": {},
   "source": [
    "Can't get rid of the amp glow... discuss/explain"
   ]
  },
  {
   "cell_type": "markdown",
   "metadata": {},
   "source": [
    "## Photometry "
   ]
  },
  {
   "cell_type": "code",
   "execution_count": null,
   "metadata": {
    "collapsed": true
   },
   "outputs": [],
   "source": [
    "import photutils"
   ]
  },
  {
   "cell_type": "code",
   "execution_count": null,
   "metadata": {},
   "outputs": [],
   "source": [
    "plt.hist(ccd_data_g_flattened.data.flat, bins=100, range=(-100, 1000));"
   ]
  },
  {
   "cell_type": "code",
   "execution_count": null,
   "metadata": {
    "collapsed": true
   },
   "outputs": [],
   "source": [
    "from astropy.stats import SigmaClip"
   ]
  },
  {
   "cell_type": "code",
   "execution_count": null,
   "metadata": {},
   "outputs": [],
   "source": [
    "bkg_estimator = photutils.MMMBackground(sigma_clip=SigmaClip(sigma=3.))\n",
    "bkg_val = bkg_estimator.calc_background(ccd_data_g_flattened)\n",
    "bkg_val"
   ]
  },
  {
   "cell_type": "code",
   "execution_count": null,
   "metadata": {
    "collapsed": true
   },
   "outputs": [],
   "source": [
    "ccd_data_g_bkgsub = ccd_data_g_flattened.subtract(bkg_val*u.count)"
   ]
  },
  {
   "cell_type": "code",
   "execution_count": null,
   "metadata": {},
   "outputs": [],
   "source": [
    "plt.hist(ccd_data_g_bkgsub.data.flat, bins=100, range=(-100, 100));"
   ]
  },
  {
   "cell_type": "code",
   "execution_count": null,
   "metadata": {},
   "outputs": [],
   "source": [
    "zoomed = ccd_data_g_bkgsub[2200:3300, :1000]\n",
    "show_image(zoomed, 12, 99.9, figsize=(12, 10))"
   ]
  },
  {
   "cell_type": "markdown",
   "metadata": {},
   "source": [
    "Why more extended than SDSS?"
   ]
  },
  {
   "cell_type": "code",
   "execution_count": null,
   "metadata": {},
   "outputs": [],
   "source": [
    "scale_eq = u.pixel_scale(0.182*u.arcsec/u.pixel)\n",
    "(25*u.pixel).to(u.arcsec, scale_eq)\n",
    "(3*u.arcsec).to(u.pixel, scale_eq)"
   ]
  },
  {
   "cell_type": "code",
   "execution_count": null,
   "metadata": {},
   "outputs": [],
   "source": [
    "positions = [(736., 401.5), (743., 672.)]\n",
    "apertures = photutils.CircularAperture(positions, r=16.5/2)\n",
    "\n",
    "show_image(zoomed, 12, 99.9, figsize=(6, 10))\n",
    "apertures.plot(color='red')\n",
    "plt.xlim(650, 800)\n",
    "plt.ylim(350, 700)"
   ]
  },
  {
   "cell_type": "markdown",
   "metadata": {},
   "source": [
    "SDSS photobj are: 20.04009 (S) and  20.4847 (N)"
   ]
  },
  {
   "cell_type": "code",
   "execution_count": null,
   "metadata": {},
   "outputs": [],
   "source": [
    "20.4847 - 20.04009"
   ]
  },
  {
   "cell_type": "code",
   "execution_count": null,
   "metadata": {},
   "outputs": [],
   "source": [
    "apphot = photutils.aperture_photometry(zoomed, apertures)\n",
    "apphot"
   ]
  },
  {
   "cell_type": "code",
   "execution_count": null,
   "metadata": {},
   "outputs": [],
   "source": [
    "mags = u.Magnitude(apphot['aperture_sum'])\n",
    "mags[1] - mags[0]"
   ]
  },
  {
   "cell_type": "markdown",
   "metadata": {},
   "source": [
    "Guess we're on the right track!"
   ]
  },
  {
   "cell_type": "markdown",
   "metadata": {},
   "source": [
    "### Now find things automatically"
   ]
  },
  {
   "cell_type": "code",
   "execution_count": null,
   "metadata": {},
   "outputs": [],
   "source": [
    "res = photutils.detect_sources(ccd_data_g_bkgsub.data, 40, 5)"
   ]
  },
  {
   "cell_type": "code",
   "execution_count": null,
   "metadata": {},
   "outputs": [],
   "source": [
    "plt.figure(figsize=(8, 16))\n",
    "plt.imshow(res, cmap=res.cmap('#222222'), origin='lower')"
   ]
  }
 ],
 "metadata": {
  "kernelspec": {
   "display_name": "Python [default]",
   "language": "python",
   "name": "python3"
  },
  "language_info": {
   "codemirror_mode": {
    "name": "ipython",
    "version": 3
   },
   "file_extension": ".py",
   "mimetype": "text/x-python",
   "name": "python",
   "nbconvert_exporter": "python",
   "pygments_lexer": "ipython3",
   "version": "3.5.2"
  }
 },
 "nbformat": 4,
 "nbformat_minor": 2
}
