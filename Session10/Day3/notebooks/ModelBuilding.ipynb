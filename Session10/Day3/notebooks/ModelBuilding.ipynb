{
 "cells": [
  {
   "cell_type": "code",
   "execution_count": 1,
   "metadata": {},
   "outputs": [
    {
     "name": "stdout",
     "output_type": "stream",
     "text": [
      "Populating the interactive namespace from numpy and matplotlib\n"
     ]
    }
   ],
   "source": [
    "%pylab inline\n",
    "%config InlineBackend.figure_format = 'retina'"
   ]
  },
  {
   "cell_type": "code",
   "execution_count": 2,
   "metadata": {},
   "outputs": [],
   "source": [
    "import arviz as az\n",
    "import pystan\n",
    "import seaborn as sns\n",
    "\n",
    "sns.set_context('notebook')\n",
    "sns.set_palette('colorblind')\n",
    "sns.set_style('ticks')"
   ]
  },
  {
   "cell_type": "code",
   "execution_count": null,
   "metadata": {},
   "outputs": [],
   "source": [
    "def plot_fitted_line(fit, x, y, xerr=None, yerr=None):\n",
    "    xmin = np.min(x)\n",
    "    xmax = np.max(x)\n",
    "    \n",
    "    xmin, xmax = (xmin - 0.1*(xmax-xmin)), (xmax + 0.1*(xmax-xmin))\n",
    "    \n",
    "    xs = linspace(xmin, xmax, 100)\n",
    "    ys = []\n",
    "    for m, b in zip(fit.posterior.m.values.flatten(), fit.posterior.b.values.flatten()):\n",
    "        ys.append(m*xs + b)\n",
    "    ys = array(ys)\n",
    "    \n",
    "    l, _ = plot(xs, median(ys, axis=0))\n",
    "    fill_between(xs, percentile(ys, 84, axis=0), percentile(ys, 16, axis=0), color=l.get_color(), alpha=0.25)\n",
    "    fill_between(xs, percentile(ys, 97.5, axis=0), percentile(ys, 2.5, axis=0), color=l.get_color(), alpha=0.25)\n",
    "    \n",
    "    # Plot the data\n",
    "    errorbar(x, y, xerr=xerr, yerr=yerr, color='k', fmt='.')\n",
    "    \n",
    "def plot_inferred_ys_noscatter(fit, x):\n",
    "    ys = []\n",
    "    for m, b in zip(fit.posterior.m.values.flatten(), fit.posterior.b.values.flatten()):\n",
    "        ys.append(m*x + b)\n",
    "    ys = array(ys)\n",
    "    \n",
    "    errorbar(x, mean(ys, axis=0), yerr=std(ys, axis=0), fmt='.')"
   ]
  },
  {
   "cell_type": "markdown",
   "metadata": {},
   "source": [
    "## Problem 1"
   ]
  },
  {
   "cell_type": "markdown",
   "metadata": {},
   "source": [
    "Incorporate the uncertainty in the measurement of $x$ from [Hogg, Bovy & Lang (2010)](https://arxiv.org/pdf/1008.4686.pdf) into your model.  You will need to introduce a variable $x_\\mathrm{true}$ (just like our $y_\\mathrm{true}$) and include an observational likelihood for its values.  Make plots of your fits similar to those we have produced.  Is your model reasonable?  (Remember to fit data points 5 to 20, as the first four points are outliers!)\n",
    "\n",
    "Can you write a version of this model that uses a mixture model to fit out the outliers, as we did above?\n",
    "\n",
    "Can you extend your model to account for either intrinsic scatter or inaccuracy in the measurement uncertainties reported in both dimensions, as we did before?  Could you account for both effects in this data set?"
   ]
  },
  {
   "cell_type": "markdown",
   "metadata": {},
   "source": [
    "## Problem 2"
   ]
  },
  {
   "cell_type": "markdown",
   "metadata": {},
   "source": [
    "Cosmology!  In the `datasets` folder for this session is a Type Ia supernova dataset from [Scolnic, et al. (2017)](https://arxiv.org/abs/1710.00845).  It gives measurements of the redshift (assumed perfectly measured) and distance modulus (imperfectly measured) for some hundreds of supernova from the PanSTARRS survey.  Recall that the distance modulus is \n",
    "$$\n",
    "\\mu = 5 \\log_{10} \\left( \\frac{d_L}{10 \\, \\mathrm{pc}} \\right)\n",
    "$$\n",
    "and the luminosity distance (see [Hogg (1999)](https://arxiv.org/abs/astro-ph/9905116)) is given in terms of the cosmological parameters of a flat universe by \n",
    "$$\n",
    "d_L\\left( z \\mid H_0, \\Omega_M, w\\right) = \\frac{c}{H_0} \\int_{0}^z \\mathrm{d} z \\, \\frac{1}{\\sqrt{\\Omega_M \\left( 1 + z \\right)^3 + \\left( 1 - \\Omega_M \\right) \\left( 1 + z \\right)^{3(1+w)}}}.\n",
    "$$\n",
    "\n",
    "This is a *non-linear* version of the line fitting problem: we have a perfectly-measured redshift; we use cosmology---rather than a linear relation---to predict the luminosity distance, which predicts the distance modulus.  We then compare to the observed distance modulus (plus uncertainty!) to constrain the cosmology.  You can either learn about how to do integrals like the above in Stan (see [here](https://mc-stan.org/docs/2_20/stan-users-guide/integrate-1d.html); but you will need to install a newer version of Stan and do some fancy coding---this is expert-mode!) or you can use the following rational function approximation to $d_L$ that is good to $z \\simeq 1.5$ or so:\n",
    "$$\n",
    "d_L = \\frac{c}{H_0} \\frac{z + z^2\\frac{3 - 10 w +3 w^2 + 10 w \\Omega_M + 6 w^2 \\Omega_M - 9 w^2 \\Omega_M^2}{4 \\left( 1 - 3 w + 3 w \\Omega_M \\right)}}{1 + z \\frac{1 - 2 w -3 w^2 +2 w \\Omega_M + 12 w^2 \\Omega_M - 9 w^2 \\Omega_M^2}{2 \\left( 1 - 3 w + 3 w \\Omega_M\\right)}}\n",
    "$$\n",
    "\n",
    "Recall that there are some limits on variables: $0 \\leq \\Omega_M < 1$, and $0 < H_0$.  So you will need to declare these in the Stan parameters block:\n",
    "\n",
    "    real<lower=0,upper=1> Om;\n",
    "    real<lower=0> H0;\n",
    "   \n",
    "It is up to you whether you want to encode the weak energy condition $w > -1$ or not."
   ]
  },
  {
   "cell_type": "markdown",
   "metadata": {},
   "source": [
    "## Problem 3"
   ]
  },
  {
   "cell_type": "markdown",
   "metadata": {},
   "source": [
    "The paper [Pearson, et al. (2015)](https://ui.adsabs.harvard.edu/abs/2015MNRAS.449.3082P/abstract) tried to calibrate a large number of \"mass proxies\" for galaxy groups based on simulations.  You can, of course, take each proxy one-by-one in a linear fit similar to those we have been doing.  But, a better approach is to imagine that the true mass and proxies are drawn from a multivariate normal distribution.  Stan has facilities for modelling the mean vector and covariance matrix of this multivariate normal (see [here](https://mc-stan.org/docs/2_20/functions-reference/distributions-over-unbounded-vectors.html) and [here](https://mc-stan.org/docs/2_20/functions-reference/covariance-matrix-distributions.html) or [here](https://mc-stan.org/docs/2_20/functions-reference/correlation-matrix-distributions.html)).  Write down a model that has (log) true mass and some number of proxies drawn from such a MVN, and then constraints the parameters of this MVN using some number of observations with uncertainty.  Fit it to the data in the datasets directory.\n",
    "\n",
    "Now extend your model to incorporate some number of observations of only the proxy values (i.e. do not include a term in the likelihood for log mass in this subset of observations); the model can still *predict* masses from the MVN using the proxy observations and the observed common distribution.\n",
    "\n",
    "Comment on the \"meaning\" of your model; in particular, what are you assuming about the proxies in the \"training\" set compared to the \"observation\" set?  "
   ]
  },
  {
   "cell_type": "code",
   "execution_count": null,
   "metadata": {},
   "outputs": [],
   "source": []
  }
 ],
 "metadata": {
  "kernelspec": {
   "display_name": "Python 3",
   "language": "python",
   "name": "python3"
  },
  "language_info": {
   "codemirror_mode": {
    "name": "ipython",
    "version": 3
   },
   "file_extension": ".py",
   "mimetype": "text/x-python",
   "name": "python",
   "nbconvert_exporter": "python",
   "pygments_lexer": "ipython3",
   "version": "3.7.3"
  }
 },
 "nbformat": 4,
 "nbformat_minor": 4
}
