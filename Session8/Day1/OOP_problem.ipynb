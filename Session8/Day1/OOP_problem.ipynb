{
 "cells": [
  {
   "cell_type": "markdown",
   "metadata": {},
   "source": [
    "# Building a Digital Orrery\n",
    "## An exercise in Object Oriented Programming\n",
    "\n",
    "**Version 0.1**\n",
    "\n",
    "It is your goal in this exercise to construct a Digital Orrery. An [orrery](https://en.wikipedia.org/wiki/Orrery) is a mechanical model of the Solar System. Here, we will generalize this to anything that is mechanically similar to *the* solar system: a collection of things bound gravitationally. \n",
    "\n",
    "\n",
    "<img src=\"https://upload.wikimedia.org/wikipedia/commons/4/48/Grand_orrery_in_Putnam_Gallery%2C_2009-11-24.jpg\" alt=\"Orrery\" width=\"600\"/>\n",
    "(image: wikimedia)\n",
    "\n",
    "\n",
    "* * *\n",
    "\n",
    "By J. S. Oishi (Bates College)"
   ]
  },
  {
   "cell_type": "code",
   "execution_count": null,
   "metadata": {},
   "outputs": [],
   "source": [
    "import numpy as np\n",
    "import matplotlib.pyplot as plt\n",
    "\n",
    "%matplotlib notebook"
   ]
  },
  {
   "cell_type": "markdown",
   "metadata": {},
   "source": [
    "## Problem 1) Building a basic set of objects\n",
    "\n",
    "Our first task is to map our problem onto a set of **objects** that we **instantiate** (that is, make **instances** of) in order to solve our problem."
   ]
  },
  {
   "cell_type": "markdown",
   "metadata": {},
   "source": [
    "**Problem 1a**\n",
    "\n",
    "In disucssion with a classmate, sketch out a set of classes that you will need to complete this project. Don't worry about things like numerical integrators yet. "
   ]
  },
  {
   "cell_type": "code",
   "execution_count": null,
   "metadata": {},
   "outputs": [],
   "source": [
    "def MyFirstClass(object):\n",
    "    pass\n",
    "\n",
    "def MySecondClass(object):\n",
    "    pass"
   ]
  },
  {
   "cell_type": "markdown",
   "metadata": {},
   "source": [
    "**Problem 1b**\n",
    "\n",
    "Now I reveal to you the actual things you need. In this cell is some commented out Markdown. Once you've finished with problem 1a above, double click in here, delete the comments, hit shift-enter, and revel in the problem\n",
    "\n",
    "<!--\n",
    " * `Universe` the space in which your orrery takes place. You can assume it to be a Newtonian spacetime.\n",
    " * `Body` a thing that gravitationally attracts another thing\n",
    "     - `TestMass` a subclass of `Body` that has zero mass. *Why make this a separate class?*\n",
    "-->"
   ]
  },
  {
   "cell_type": "code",
   "execution_count": null,
   "metadata": {},
   "outputs": [],
   "source": [
    "bright = SDSSts[ # complete\n",
    "Nbright_star = # complete\n",
    "    \n",
    "print(\"There are {:d} stars with r' < 20 the data set.\".format( # complete"
   ]
  },
  {
   "cell_type": "markdown",
   "metadata": {},
   "source": [
    "Sometimes it is useful to add an explanation for the acquired results. Or to add some text setting up the next portion of the problem. Alternatively, you may want the students to think about the results and provide a response for what they found, as follows: *in this case it's good to provide a markdown cell for them to write their answer*\n",
    "\n",
    "**Problem 1c**\n",
    "\n",
    "Based on your knowledge of SDSS, do your results above make sense?"
   ]
  },
  {
   "cell_type": "markdown",
   "metadata": {},
   "source": [
    "*Provide your answer to Problem 1c here*"
   ]
  },
  {
   "cell_type": "markdown",
   "metadata": {},
   "source": [
    "While plots are useful, and often necessary, it's best to keep them compact if possible. We don't want students struggling with plot syntax (unless the specific topic is visualization). Thus, in these cases, it's best to provide code snippets that are more close to being complete. \n",
    "\n",
    "**Problem 1d**\n",
    "\n",
    "For the bright stars, make a scatter plot of `psdMag_r` vs. `deVMag_r`. "
   ]
  },
  {
   "cell_type": "code",
   "execution_count": null,
   "metadata": {
    "collapsed": true
   },
   "outputs": [],
   "source": [
    "plt.scatter(SDSSts[(bright) & (star)][ # complete\n",
    "\n",
    "plt.xtitle('psfMag_r')\n",
    "plt.ytitle('deVMag_r')\n",
    "plt.xlimit( # complete\n",
    "plt.xlimit( # complete\n",
    "\n",
    "plt.tight_layout()"
   ]
  },
  {
   "cell_type": "markdown",
   "metadata": {},
   "source": [
    "## Problem 2\n",
    "\n",
    "When the first idea is complete, begin a new Problem. The notebook continues with this modular structure until the challenge problem. Problems 2a, 2b, 2c, etc. are eventually to be followed by Problem 3... and so on. "
   ]
  },
  {
   "cell_type": "markdown",
   "metadata": {},
   "source": [
    "Text explaining what's going on\n",
    "\n",
    "** Problem 2a **\n",
    "\n",
    "Definition of Problem 2a."
   ]
  },
  {
   "cell_type": "code",
   "execution_count": null,
   "metadata": {
    "collapsed": true
   },
   "outputs": [],
   "source": [
    "code_snippet1 = # complete\n",
    "code_snippet2 = # complete\n",
    "code_snippet3 = # complete\n",
    "code_snippet4 = # complete"
   ]
  },
  {
   "cell_type": "markdown",
   "metadata": {},
   "source": [
    "Finally, as noted above, the notebook should end with a Challenge Problem in case any of the students finish the notebook before time is up. This problem should be harder and include fewer prompts."
   ]
  },
  {
   "cell_type": "markdown",
   "metadata": {},
   "source": [
    "## Challenge Problem\n",
    "\n",
    "Complete the following problem, which can be arbitrarily difficult."
   ]
  },
  {
   "cell_type": "code",
   "execution_count": null,
   "metadata": {
    "collapsed": true
   },
   "outputs": [],
   "source": [
    "# no code snippets provided here"
   ]
  }
 ],
 "metadata": {
  "kernelspec": {
   "display_name": "Python 3",
   "language": "python",
   "name": "python3"
  },
  "language_info": {
   "codemirror_mode": {
    "name": "ipython",
    "version": 3
   },
   "file_extension": ".py",
   "mimetype": "text/x-python",
   "name": "python",
   "nbconvert_exporter": "python",
   "pygments_lexer": "ipython3",
   "version": "3.7.2"
  }
 },
 "nbformat": 4,
 "nbformat_minor": 2
}
