{
 "cells": [
  {
   "cell_type": "markdown",
   "metadata": {},
   "source": [
    "## Image Processing\n",
    "\n",
    "This ipython (sorry, Jupyter) notebook contains the examples that I'll be covering in the 1-dimensional part of my image processing session.  There are no external data files to worry about"
   ]
  },
  {
   "cell_type": "markdown",
   "metadata": {},
   "source": [
    "### Task 0\n",
    "\n",
    "Import numpy and matplotlib, and make a simple plot of a sine wave\n",
    "\n",
    "_N.b._  I usually start with a piece of boilerplate roughly like:"
   ]
  },
  {
   "cell_type": "code",
   "execution_count": null,
   "metadata": {
    "collapsed": true
   },
   "outputs": [],
   "source": [
    "import numpy as np\n",
    "import matplotlib.pyplot as plt\n",
    "%matplotlib inline\n",
    "# A nice alternative to inline (which allows interaction with the plots, but can be confusing) is\n",
    "# %matplotlib notebook"
   ]
  },
  {
   "cell_type": "markdown",
   "metadata": {},
   "source": [
    "#### Answer 0"
   ]
  },
  {
   "cell_type": "code",
   "execution_count": null,
   "metadata": {
    "collapsed": false
   },
   "outputs": [],
   "source": [
    "x = np.linspace(0, 10, 100)\n",
    "y = np.sin(x)\n",
    "\n",
    "plt.plot(x, y, '-o')\n",
    "plt.ylim(-1.1, 1.1)\n",
    "plt.xlabel('x')\n",
    "plt.ylabel('sin(x)')\n",
    "plt.title('My brilliant plot')\n",
    "plt.show()"
   ]
  },
  {
   "cell_type": "markdown",
   "metadata": {},
   "source": [
    "### A Toy 1-D Model\n",
    "\n",
    "We'll make a simple one dimensional model of a star field.  Images of real stars are complicated, but we'll assume that the profile is a Gaussian.  I write a Gaussian with mean $\\mu$ and variance $\\sigma^2$ as $N(\\mu, \\sigma^2)$.\n",
    "\n",
    "Almost all stars are essentially point sources as viewed from the Earth, so stars look like the Point Spread Function (PSF) produced by a combination of the atmosphere, the telescope, and the detector.  There's no standard notation for the PSF, but I always call it $\\phi$.  The Full Width Half Maximum (FWHM) is a measure of the PSF's width.\n",
    "\n",
    "In addition to flux from the stars that we care about there's a smooth background of extra light that comes from a number of sources (atmospheric emission, scattering of star and moonlight, dark current in the detector...); for now we'll just treat this as an annoying constant that I'll call `The Sky'.\n",
    "\n",
    "In reality CCD data is only measured where we have pixels, but under certain conditions (band-limited; satisfying the Nyquist condition) it turns out that the pixellation is unimportant, so we'll ignore it for this session."
   ]
  },
  {
   "cell_type": "markdown",
   "metadata": {},
   "source": [
    "### Task 1\n",
    "\n",
    "Write a simulator that simulates 1-D data.  Provide a function with signature\n",
    "\n",
    "    def phi(x, xc=0.0, fwhm=2):\n",
    "        \"\"\"Return a numpy array with a star centred at the point xc and FWHM evaluated at the points x\"\"\"\n",
    "        \n",
    "Use a Gaussian PSF, and set the sky level to S; for a Gaussian $N(0, \\beta^2)$, the FWHM is $2\\sqrt{2\\ln(2)}\\,\\beta \\sim 2.3548\\beta$\n",
    "\n",
    "Plot a few of your beautiful simulations.  Once you've got it working, wrap it up in a function\n",
    "\n",
    "    simulate(x, S=100)"
   ]
  },
  {
   "cell_type": "markdown",
   "metadata": {
    "collapsed": true
   },
   "source": [
    "#### Answer 1"
   ]
  },
  {
   "cell_type": "code",
   "execution_count": null,
   "metadata": {
    "collapsed": false
   },
   "outputs": [],
   "source": [
    "def phi(x, xc=0.0, FWHM=2):\n",
    "    beta = FWHM/(2*sqrt(2*log(2)))\n",
    "    I = np.exp(-0.5*((x - xc)/beta)**2)\n",
    "    I /= I.sum()\n",
    "    \n",
    "    return I\n",
    "    \n",
    "x = np.linspace(0, 20, 100, dtype=float)\n",
    "\n",
    "S = 100\n",
    "\n",
    "I = S + np.zeros_like(x)\n",
    "for F, xc in [(500, 7), (2000, 15)]:\n",
    "    I += F*phi(x, xc)\n",
    "\n",
    "plt.plot(x, I,'-o')\n",
    "plt.show()"
   ]
  },
  {
   "cell_type": "code",
   "execution_count": null,
   "metadata": {
    "collapsed": false
   },
   "outputs": [],
   "source": [
    "def simulate(x, S=100):\n",
    "    I = S + np.zeros_like(x)\n",
    "    for F, xc in [(500, 7), (2000, 15)]:\n",
    "        I += F*phi(x, xc)\n",
    "\n",
    "    return I\n",
    "\n",
    "x = np.linspace(0, 20, 100, dtype=float)\n",
    "I = simulate(x)\n",
    "\n",
    "plt.plot(x, I,'-o')\n",
    "plt.show()"
   ]
  },
  {
   "cell_type": "markdown",
   "metadata": {},
   "source": [
    "### Task 2\n",
    "\n",
    "There are lots of sources of noise in astronomical data, but for now let's assume that the only thing that matters is the finite number of photons that we detect.  Detecting $n$ photons in a pixel results in a Poisson distribution; if\n",
    "$n$'s mean value is $\\mu$, then its variance is also $\\mu$.  If $\\mu \\gg 1$, $P(\\mu) \\sim N(\\mu, \\mu)$.   You can do better than this if you need to;  if $\\mu > 4$ (!), Anscombe showed that  $x \\equiv 2\\sqrt{x + 3/8}$ is approximately Gaussian, $N(2\\sqrt{\\mu + 3/8} - 1/(4\\sqrt\\mu), 1)$ -- but you probably only care if you're looking at the tails of the distribution.\n",
    "\n",
    "Add noise to your simulation.  You can get Poisson variates from numpy by saying _e.g._:\n",
    "\n",
    "    mu = 100\n",
    "    print np.random.poisson(lam=mu)\n",
    "    print np.random.normal(loc=mu, scale=sqrt(mu))    # Here's how to get a Gaussian approximation\n",
    "    \n",
    "If you want to set the random number seed so that the noise added is always the same, say something like\n",
    "\n",
    "    np.random.seed(666)\n",
    "    \n",
    "If you can't see your stars you might want to make them brighter --- remember that we added a background noise of 10 when we set the sky level to 100"
   ]
  },
  {
   "cell_type": "code",
   "execution_count": null,
   "metadata": {
    "collapsed": false
   },
   "outputs": [],
   "source": [
    "mu = 100\n",
    "print np.random.poisson(lam=mu)\n",
    "print np.random.normal(loc=mu, scale=sqrt(mu))    # Here's how to get a Gaussian approximation"
   ]
  },
  {
   "cell_type": "markdown",
   "metadata": {},
   "source": [
    "#### Answer 2"
   ]
  },
  {
   "cell_type": "code",
   "execution_count": null,
   "metadata": {
    "collapsed": false
   },
   "outputs": [],
   "source": [
    "x = np.linspace(0, 20, 100, dtype=float)\n",
    "np.random.seed(1000)\n",
    "sim = simulate(x)\n",
    "I = np.random.poisson(sim)\n",
    "\n",
    "plt.plot(x, sim)\n",
    "plt.errorbar(x, I, I - sim)\n",
    "plt.show()"
   ]
  },
  {
   "cell_type": "markdown",
   "metadata": {},
   "source": [
    "### Task 3\n",
    "\n",
    "Let's investigate measuring the flux in a single isolated star.  Start my modifying your previous two answers to simulate a single star with $\\beta = 2$ (a FWHM of c. 5 pixels), centred at x=0, with total flux F0.  In reality estimating the sky background is not trivial, but for now let's simply subtract it.  Plot one of your simulations, with F0=1000 and S=100.\n",
    "\n",
    "The simplest way to measure the flux in a star is to sum the counts within an aperture.  Modify your code to estimate the flux within $R$ pixels of the centre, then run a Monte-Carlo simulation to estimate the mean and variance of your estimator."
   ]
  },
  {
   "cell_type": "markdown",
   "metadata": {},
   "source": [
    "#### Answer 3"
   ]
  },
  {
   "cell_type": "code",
   "execution_count": null,
   "metadata": {
    "collapsed": false
   },
   "outputs": [],
   "source": [
    "def simulate(x, F0 = 1000, S=100, beta=2.5):\n",
    "    sim = np.zeros_like(x) + F0*phi(x, FWHM=2*sqrt(2*log(2))*beta)\n",
    "\n",
    "    return np.random.poisson(sim + S) - S if False else \\\n",
    "           sim + np.random.normal(0, np.sqrt(S + sim)) if False else \\\n",
    "           sim + np.random.normal(0, np.sqrt(S), size=len(sim))\n",
    "\n",
    "#np.random.seed(1000)    # uncomment to make your noise realisation repeatable\n",
    "\n",
    "nSample = 4000\n",
    "flux = np.empty(nSample)\n",
    "x = np.linspace(-20, 20, 100, dtype=float)\n",
    "\n",
    "R = 5\n",
    "beta, F0 = 2.5, 1000\n",
    "for i in range(nSample):\n",
    "    sim = simulate(x, F0, beta=beta)\n",
    "    flux[i] = np.sum(sim[np.abs(x < R)])\n",
    "\n",
    "plt.plot(x, sim)\n",
    "for r in (-R, R):\n",
    "    plt.axvline(r, ls=':', color='black')\n",
    "plt.show()\n",
    "\n",
    "plt.hist(flux, 20)\n",
    "plt.axvline(F0, ls=':', color='black')\n",
    "plt.xlabel(r\"$F_0$\")\n",
    "plt.ylabel(\"N\")\n",
    "plt.title(r\"R/$\\beta$ = %g, %.2f $\\pm$ %.2f\" % (R/beta, np.mean(flux), np.std(flux)))\n",
    "plt.show()"
   ]
  },
  {
   "cell_type": "markdown",
   "metadata": {},
   "source": [
    "### Task 4\n",
    "\n",
    "Package your estimator into a function and estimate the mean and variance as a function of $R$; plot your results.  What value of $R$ gives the smallest variance in $F_0$?\n",
    "\n",
    "For small $R$ are we measuring $F_0$ correctly?  If not, make appropriate corrections and remake your plots.  Does your conclusion change?"
   ]
  },
  {
   "cell_type": "code",
   "execution_count": null,
   "metadata": {
    "collapsed": true
   },
   "outputs": [],
   "source": [
    "#np.random.seed(1000)\n",
    "\n",
    "nSample = 10000\n",
    "\n",
    "def estimateApertureStats(x, R):\n",
    "    flux = np.empty(nSample)\n",
    "\n",
    "    for i in range(nSample):\n",
    "        sim = simulate(x, F0=F0, beta=beta)\n",
    "        flux[i] = np.sum(sim[np.abs(x < R)])\n",
    "        \n",
    "    return np.mean(flux), np.std(flux)\n",
    "\n",
    "RR = np.arange(1, 16, dtype=float)\n",
    "mean = np.empty_like(RR)\n",
    "std = np.empty_like(RR)\n",
    "\n",
    "x = np.linspace(-20, 20, 100)\n",
    "for i, R in enumerate(RR):\n",
    "    mean[i], std[i] = estimateApertureStats(x, R)"
   ]
  },
  {
   "cell_type": "code",
   "execution_count": null,
   "metadata": {
    "collapsed": false
   },
   "outputs": [],
   "source": [
    "plt.errorbar(RR/beta, mean, std)\n",
    "plt.axhline(F0, ls=':', color='black')\n",
    "plt.xlabel(r\"$R/\\beta$\")\n",
    "plt.ylabel(r\"$F_0$\")\n",
    "plt.show()\n",
    "\n",
    "plt.plot(RR/beta, std)\n",
    "#plt.axhline(F0, ls=':', color='black')\n",
    "plt.xlabel(r\"R/\\beta\")\n",
    "plt.ylabel(r\"d$F_0$\")\n",
    "plt.show()"
   ]
  },
  {
   "cell_type": "markdown",
   "metadata": {},
   "source": [
    "We can calculate the `curve of growth' (the variation in the mean with radius) analytically for our PSF.\n",
    "\n",
    "It's also possible to do this by passing the function phi to a different implementation of curveOfGrowth, but that requires some hacky and/or more advanced python (currying, or more accurately partial function evaluation);  so I won't do that."
   ]
  },
  {
   "cell_type": "code",
   "execution_count": null,
   "metadata": {
    "collapsed": true
   },
   "outputs": [],
   "source": [
    "import scipy.special\n",
    "\n",
    "def curveOfGrowth(R, beta):\n",
    "    \"\"\"Return the curve of growth, evaluated at the points R, for a Gaussian N(0, beta^2) PSF\"\"\"\n",
    "    return 0.5*(1 + scipy.special.erf(R/beta/sqrt(2)))"
   ]
  },
  {
   "cell_type": "code",
   "execution_count": 14,
   "metadata": {
    "collapsed": false
   },
   "outputs": [
    {
     "data": {
      "image/png": "[encoded data removed]",
      "text/plain": [
       "<matplotlib.figure.Figure at 0x10cf99290>"
      ]
     },
     "metadata": {},
     "output_type": "display_data"
    },
    {
     "data": {
      "image/png": "[encoded data removed]",
      "text/plain": [
       "<matplotlib.figure.Figure at 0x1140ba210>"
      ]
     },
     "metadata": {},
     "output_type": "display_data"
    }
   ],
   "source": [
    "cog = curveOfGrowth(RR, beta)\n",
    "\n",
    "plt.errorbar(RR/beta, mean/cog, std/sqrt(nSample))\n",
    "plt.axhline(F0, ls=':', color='black')\n",
    "plt.xlabel(r\"$R/\\beta$\")\n",
    "plt.ylabel(r\"$F_0$\")\n",
    "plt.show()\n",
    "\n",
    "plt.plot(RR/beta, std/cog, label='Theory')\n",
    "plt.plot(RR/beta, std/(mean/F0), label='Empirical')\n",
    "plt.xlabel(r\"R/\\beta\")\n",
    "plt.ylabel(r\"d$F_0$\")\n",
    "plt.legend(loc='best')\n",
    "plt.show()"
   ]
  },
  {
   "cell_type": "markdown",
   "metadata": {},
   "source": [
    "### Task 5\n",
    "\n",
    "The lecture notes imply that we'd do better to use the PSF to measure the flux.  Write a Monte-Carlo simulation, and compare your results with the previous task"
   ]
  },
  {
   "cell_type": "markdown",
   "metadata": {},
   "source": [
    "#### Answer 5"
   ]
  },
  {
   "cell_type": "code",
   "execution_count": 13,
   "metadata": {
    "collapsed": false
   },
   "outputs": [
    {
     "data": {
      "image/png": "[encoded data removed]",
      "text/plain": [
       "<matplotlib.figure.Figure at 0x10cf99c10>"
      ]
     },
     "metadata": {},
     "output_type": "display_data"
    },
    {
     "data": {
      "image/png": "[encoded data removed]",
      "text/plain": [
       "<matplotlib.figure.Figure at 0x113f718d0>"
      ]
     },
     "metadata": {},
     "output_type": "display_data"
    }
   ],
   "source": [
    "nSample = 4000\n",
    "flux = np.empty(nSample)\n",
    "filt = phi(x, FWHM=2*sqrt(2*log(2))*beta)\n",
    "filt /= np.sum(filt**2)\n",
    "\n",
    "R = 5\n",
    "beta, F0 = 2.5, 1000\n",
    "for i in range(nSample):\n",
    "    sim = simulate(x, F0, beta=beta)\n",
    "    flux[i] = np.sum(filt*sim)\n",
    "\n",
    "plt.plot(x, sim)\n",
    "plt.plot(x, filt/np.max(filt)*np.max(sim), ls=':', color='black')\n",
    "plt.show()\n",
    "\n",
    "plt.hist(flux, 20)\n",
    "plt.axvline(F0, ls=':', color='black')\n",
    "plt.xlabel(r\"$F_0$\")\n",
    "plt.ylabel(\"N\")\n",
    "plt.title(r\"%.2f $\\pm$ %.2f  (%.2f)\" % (np.mean(flux), np.std(flux), sqrt(S*sqrt(4*pi)*beta/(x[1] - x[0]))))\n",
    "plt.show()"
   ]
  }
 ],
 "metadata": {
  "kernelspec": {
   "display_name": "Python 2",
   "language": "python",
   "name": "python2"
  },
  "language_info": {
   "codemirror_mode": {
    "name": "ipython",
    "version": 2
   },
   "file_extension": ".py",
   "mimetype": "text/x-python",
   "name": "python",
   "nbconvert_exporter": "python",
   "pygments_lexer": "ipython2",
   "version": "2.7.11"
  }
 },
 "nbformat": 4,
 "nbformat_minor": 0
}
